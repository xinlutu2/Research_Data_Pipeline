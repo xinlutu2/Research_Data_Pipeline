{
 "cells": [
  {
   "cell_type": "code",
   "execution_count": 2,
   "metadata": {},
   "outputs": [],
   "source": [
    "import pandas as pd\n",
    "import ast\n",
    "import collections\n",
    "import matplotlib.pyplot as plt"
   ]
  },
  {
   "cell_type": "code",
   "execution_count": 3,
   "metadata": {},
   "outputs": [
    {
     "data": {
      "text/html": [
       "<div>\n",
       "<style scoped>\n",
       "    .dataframe tbody tr th:only-of-type {\n",
       "        vertical-align: middle;\n",
       "    }\n",
       "\n",
       "    .dataframe tbody tr th {\n",
       "        vertical-align: top;\n",
       "    }\n",
       "\n",
       "    .dataframe thead th {\n",
       "        text-align: right;\n",
       "    }\n",
       "</style>\n",
       "<table border=\"1\" class=\"dataframe\">\n",
       "  <thead>\n",
       "    <tr style=\"text-align: right;\">\n",
       "      <th></th>\n",
       "      <th>id</th>\n",
       "      <th>title_display</th>\n",
       "      <th>author_display</th>\n",
       "      <th>journal</th>\n",
       "      <th>full_text_link</th>\n",
       "      <th>score</th>\n",
       "      <th>keyword</th>\n",
       "      <th>publisher</th>\n",
       "      <th>subject</th>\n",
       "      <th>article_statistics</th>\n",
       "    </tr>\n",
       "  </thead>\n",
       "  <tbody>\n",
       "    <tr>\n",
       "      <th>0</th>\n",
       "      <td>10.1371/journal.pmed.1001457</td>\n",
       "      <td>Irreconcilable Conflict: The Tobacco Industry ...</td>\n",
       "      <td>['Thomas E. Novotny']</td>\n",
       "      <td>PLoS Medicine</td>\n",
       "      <td>http://europepmc.org/articles/PMC3665893?pdf=r...</td>\n",
       "      <td>9.266217</td>\n",
       "      <td>tobacco</td>\n",
       "      <td>Public Library of Science (PLoS)</td>\n",
       "      <td>Medicine</td>\n",
       "      <td>True</td>\n",
       "    </tr>\n",
       "    <tr>\n",
       "      <th>1</th>\n",
       "      <td>10.1371/journal.pmed.1001832</td>\n",
       "      <td>The Tobacco Endgame: Is It Possible?</td>\n",
       "      <td>['Thomas E. Novotny']</td>\n",
       "      <td>PLoS Medicine</td>\n",
       "      <td>http://europepmc.org/articles/PMC4449011?pdf=r...</td>\n",
       "      <td>8.905718</td>\n",
       "      <td>tobacco</td>\n",
       "      <td>Public Library of Science (PLoS)</td>\n",
       "      <td>Medicine</td>\n",
       "      <td>True</td>\n",
       "    </tr>\n",
       "    <tr>\n",
       "      <th>2</th>\n",
       "      <td>10.1371/journal.pmed.1001629</td>\n",
       "      <td>Representation and Misrepresentation of Scient...</td>\n",
       "      <td>['Selda Ulucanlar', 'Gary J. Fooks', 'Jenny L....</td>\n",
       "      <td>PLoS Medicine</td>\n",
       "      <td>http://europepmc.org/articles/PMC3965396?pdf=r...</td>\n",
       "      <td>8.093411</td>\n",
       "      <td>tobacco</td>\n",
       "      <td>Public Library of Science (PLoS)</td>\n",
       "      <td>Medicine</td>\n",
       "      <td>True</td>\n",
       "    </tr>\n",
       "    <tr>\n",
       "      <th>3</th>\n",
       "      <td>10.1371/journal.pmed.1001506</td>\n",
       "      <td>Transnational Tobacco Company Interests in Smo...</td>\n",
       "      <td>['Silvy Peeters', 'Anna B. Gilmore']</td>\n",
       "      <td>PLoS Medicine</td>\n",
       "      <td>http://europepmc.org/articles/PMC3769209?pdf=r...</td>\n",
       "      <td>8.093411</td>\n",
       "      <td>tobacco</td>\n",
       "      <td>Public Library of Science (PLoS)</td>\n",
       "      <td>Medicine</td>\n",
       "      <td>True</td>\n",
       "    </tr>\n",
       "    <tr>\n",
       "      <th>4</th>\n",
       "      <td>10.1371/journal.pmed.0040300</td>\n",
       "      <td>Should the Health Community Promote Smokeless ...</td>\n",
       "      <td>['Justine Williamson', 'Christopher Proctor']</td>\n",
       "      <td>PLoS Medicine</td>\n",
       "      <td>http://europepmc.org/articles/PMC2043003?pdf=r...</td>\n",
       "      <td>8.093411</td>\n",
       "      <td>tobacco</td>\n",
       "      <td>Public Library of Science (PLoS)</td>\n",
       "      <td>Medicine</td>\n",
       "      <td>True</td>\n",
       "    </tr>\n",
       "  </tbody>\n",
       "</table>\n",
       "</div>"
      ],
      "text/plain": [
       "                             id  \\\n",
       "0  10.1371/journal.pmed.1001457   \n",
       "1  10.1371/journal.pmed.1001832   \n",
       "2  10.1371/journal.pmed.1001629   \n",
       "3  10.1371/journal.pmed.1001506   \n",
       "4  10.1371/journal.pmed.0040300   \n",
       "\n",
       "                                       title_display  \\\n",
       "0  Irreconcilable Conflict: The Tobacco Industry ...   \n",
       "1               The Tobacco Endgame: Is It Possible?   \n",
       "2  Representation and Misrepresentation of Scient...   \n",
       "3  Transnational Tobacco Company Interests in Smo...   \n",
       "4  Should the Health Community Promote Smokeless ...   \n",
       "\n",
       "                                      author_display        journal  \\\n",
       "0                              ['Thomas E. Novotny']  PLoS Medicine   \n",
       "1                              ['Thomas E. Novotny']  PLoS Medicine   \n",
       "2  ['Selda Ulucanlar', 'Gary J. Fooks', 'Jenny L....  PLoS Medicine   \n",
       "3               ['Silvy Peeters', 'Anna B. Gilmore']  PLoS Medicine   \n",
       "4      ['Justine Williamson', 'Christopher Proctor']  PLoS Medicine   \n",
       "\n",
       "                                      full_text_link     score  keyword  \\\n",
       "0  http://europepmc.org/articles/PMC3665893?pdf=r...  9.266217  tobacco   \n",
       "1  http://europepmc.org/articles/PMC4449011?pdf=r...  8.905718  tobacco   \n",
       "2  http://europepmc.org/articles/PMC3965396?pdf=r...  8.093411  tobacco   \n",
       "3  http://europepmc.org/articles/PMC3769209?pdf=r...  8.093411  tobacco   \n",
       "4  http://europepmc.org/articles/PMC2043003?pdf=r...  8.093411  tobacco   \n",
       "\n",
       "                          publisher   subject  article_statistics  \n",
       "0  Public Library of Science (PLoS)  Medicine                True  \n",
       "1  Public Library of Science (PLoS)  Medicine                True  \n",
       "2  Public Library of Science (PLoS)  Medicine                True  \n",
       "3  Public Library of Science (PLoS)  Medicine                True  \n",
       "4  Public Library of Science (PLoS)  Medicine                True  "
      ]
     },
     "execution_count": 3,
     "metadata": {},
     "output_type": "execute_result"
    }
   ],
   "source": [
    "research_sample_df = pd.read_csv('tobacco_research_subset.csv')\n",
    "research_sample_df.head(5)"
   ]
  },
  {
   "cell_type": "code",
   "execution_count": 64,
   "metadata": {},
   "outputs": [],
   "source": [
    "author_list = []\n",
    "# flatten author list\n",
    "research_sample_df.apply(lambda row: author_list.extend(ast.literal_eval(row['author_display'])),axis=1)\n",
    "# Count frequency for three columns ['author_display'], ['journal'], ['subject']\n",
    "author_counter = collections.Counter(author_list)\n",
    "journal_counter = collections.Counter(research_sample_df['journal'])\n",
    "subject_counter = collections.Counter(research_sample_df['subject'])\n",
    "top10_author = author_counter.most_common(10)\n",
    "top10_journal = journal_counter.most_common(10)\n",
    "top10_subject = subject_counter.most_common(10)"
   ]
  },
  {
   "cell_type": "code",
   "execution_count": 66,
   "metadata": {},
   "outputs": [
    {
     "data": {
      "text/plain": [
       "[('Anna B. Gilmore', 6),\n",
       " ('Kelley Lee', 6),\n",
       " ('Stanton A. Glantz', 5),\n",
       " ('Prakash C. Gupta', 5),\n",
       " ('Thomas E. Novotny', 4),\n",
       " ('Jeff Collin', 4),\n",
       " ('Wei Hu', 4),\n",
       " ('Guangxiao Yang', 4),\n",
       " ('Guangyuan He', 4),\n",
       " ('Ian T. Baldwin', 4)]"
      ]
     },
     "execution_count": 66,
     "metadata": {},
     "output_type": "execute_result"
    }
   ],
   "source": [
    "top10_author"
   ]
  },
  {
   "cell_type": "code",
   "execution_count": 48,
   "metadata": {},
   "outputs": [
    {
     "data": {
      "text/plain": [
       "[('PLoS ONE', 268),\n",
       " ('PLoS Medicine', 31),\n",
       " ('PLoS Pathogens', 4),\n",
       " ('PLoS Genetics', 1)]"
      ]
     },
     "execution_count": 48,
     "metadata": {},
     "output_type": "execute_result"
    }
   ],
   "source": [
    "top10_journal"
   ]
  },
  {
   "cell_type": "code",
   "execution_count": 49,
   "metadata": {},
   "outputs": [
    {
     "data": {
      "text/plain": [
       "[('Medicine', 299), ('Immunologic diseases. Allergy', 4), ('Genetics', 1)]"
      ]
     },
     "execution_count": 49,
     "metadata": {},
     "output_type": "execute_result"
    }
   ],
   "source": [
    "top10_subject"
   ]
  },
  {
   "cell_type": "code",
   "execution_count": 71,
   "metadata": {},
   "outputs": [
    {
     "data": {
      "text/plain": [
       "<BarContainer object of 10 artists>"
      ]
     },
     "execution_count": 71,
     "metadata": {},
     "output_type": "execute_result"
    },
    {
     "data": {
      "image/png": "[encoded data removed]",
      "text/plain": [
       "<Figure size 1440x720 with 1 Axes>"
      ]
     },
     "metadata": {
      "needs_background": "light"
     },
     "output_type": "display_data"
    }
   ],
   "source": [
    "####################### Plot Author ######################\n",
    "top10_author = dict(top10_author)\n",
    "plt.figure(figsize=(20,10))\n",
    "plt.bar(top10_author.keys(), top10_author.values())"
   ]
  },
  {
   "cell_type": "code",
   "execution_count": 73,
   "metadata": {},
   "outputs": [
    {
     "data": {
      "text/plain": [
       "<BarContainer object of 4 artists>"
      ]
     },
     "execution_count": 73,
     "metadata": {},
     "output_type": "execute_result"
    },
    {
     "data": {
      "image/png": "[encoded data removed]",
      "text/plain": [
       "<Figure size 1440x720 with 1 Axes>"
      ]
     },
     "metadata": {
      "needs_background": "light"
     },
     "output_type": "display_data"
    }
   ],
   "source": [
    "####################### Plot journal ######################\n",
    "plt.figure(figsize=(20,10))\n",
    "plt.bar(journal_counter.keys(), journal_counter.values())"
   ]
  },
  {
   "cell_type": "code",
   "execution_count": 74,
   "metadata": {},
   "outputs": [
    {
     "data": {
      "text/plain": [
       "<BarContainer object of 3 artists>"
      ]
     },
     "execution_count": 74,
     "metadata": {},
     "output_type": "execute_result"
    },
    {
     "data": {
      "image/png": "[encoded data removed]",
      "text/plain": [
       "<Figure size 1440x720 with 1 Axes>"
      ]
     },
     "metadata": {
      "needs_background": "light"
     },
     "output_type": "display_data"
    }
   ],
   "source": [
    "####################### Subject ######################\n",
    "plt.figure(figsize=(20,10))\n",
    "plt.bar(subject_counter.keys(), subject_counter.values())"
   ]
  },
  {
   "cell_type": "code",
   "execution_count": 107,
   "metadata": {},
   "outputs": [],
   "source": [
    "########## Save .csv ##########\n",
    "author = pd.DataFrame(list(author_counter.items()), columns=['Author', 'Author_Count'])\n",
    "journal = pd.DataFrame(list(journal_counter.items()), columns=['Journal', 'Journal_Count'])\n",
    "subject = pd.DataFrame(list(subject_counter.items()), columns=['Subject', 'Subject_Count'])\n",
    "result = pd.concat([author, journal, subject], axis=1)"
   ]
  },
  {
   "cell_type": "code",
   "execution_count": 108,
   "metadata": {},
   "outputs": [
    {
     "data": {
      "text/html": [
       "<div>\n",
       "<style scoped>\n",
       "    .dataframe tbody tr th:only-of-type {\n",
       "        vertical-align: middle;\n",
       "    }\n",
       "\n",
       "    .dataframe tbody tr th {\n",
       "        vertical-align: top;\n",
       "    }\n",
       "\n",
       "    .dataframe thead th {\n",
       "        text-align: right;\n",
       "    }\n",
       "</style>\n",
       "<table border=\"1\" class=\"dataframe\">\n",
       "  <thead>\n",
       "    <tr style=\"text-align: right;\">\n",
       "      <th></th>\n",
       "      <th>Author</th>\n",
       "      <th>Author_Count</th>\n",
       "      <th>Journal</th>\n",
       "      <th>Journal_Count</th>\n",
       "      <th>Subject</th>\n",
       "      <th>Subject_Count</th>\n",
       "    </tr>\n",
       "  </thead>\n",
       "  <tbody>\n",
       "    <tr>\n",
       "      <th>0</th>\n",
       "      <td>Thomas E. Novotny</td>\n",
       "      <td>4</td>\n",
       "      <td>PLoS Medicine</td>\n",
       "      <td>31.0</td>\n",
       "      <td>Medicine</td>\n",
       "      <td>299.0</td>\n",
       "    </tr>\n",
       "    <tr>\n",
       "      <th>1</th>\n",
       "      <td>Selda Ulucanlar</td>\n",
       "      <td>2</td>\n",
       "      <td>PLoS ONE</td>\n",
       "      <td>268.0</td>\n",
       "      <td>Immunologic diseases. Allergy</td>\n",
       "      <td>4.0</td>\n",
       "    </tr>\n",
       "    <tr>\n",
       "      <th>2</th>\n",
       "      <td>Gary J. Fooks</td>\n",
       "      <td>3</td>\n",
       "      <td>PLoS Pathogens</td>\n",
       "      <td>4.0</td>\n",
       "      <td>Genetics</td>\n",
       "      <td>1.0</td>\n",
       "    </tr>\n",
       "    <tr>\n",
       "      <th>3</th>\n",
       "      <td>Jenny L. Hatchard</td>\n",
       "      <td>1</td>\n",
       "      <td>PLoS Genetics</td>\n",
       "      <td>1.0</td>\n",
       "      <td>NaN</td>\n",
       "      <td>NaN</td>\n",
       "    </tr>\n",
       "    <tr>\n",
       "      <th>4</th>\n",
       "      <td>Anna B. Gilmore</td>\n",
       "      <td>6</td>\n",
       "      <td>NaN</td>\n",
       "      <td>NaN</td>\n",
       "      <td>NaN</td>\n",
       "      <td>NaN</td>\n",
       "    </tr>\n",
       "  </tbody>\n",
       "</table>\n",
       "</div>"
      ],
      "text/plain": [
       "              Author  Author_Count         Journal  Journal_Count  \\\n",
       "0  Thomas E. Novotny             4   PLoS Medicine           31.0   \n",
       "1    Selda Ulucanlar             2        PLoS ONE          268.0   \n",
       "2      Gary J. Fooks             3  PLoS Pathogens            4.0   \n",
       "3  Jenny L. Hatchard             1   PLoS Genetics            1.0   \n",
       "4    Anna B. Gilmore             6             NaN            NaN   \n",
       "\n",
       "                         Subject  Subject_Count  \n",
       "0                       Medicine          299.0  \n",
       "1  Immunologic diseases. Allergy            4.0  \n",
       "2                       Genetics            1.0  \n",
       "3                            NaN            NaN  \n",
       "4                            NaN            NaN  "
      ]
     },
     "execution_count": 108,
     "metadata": {},
     "output_type": "execute_result"
    }
   ],
   "source": [
    "result.head(5)"
   ]
  },
  {
   "cell_type": "code",
   "execution_count": 109,
   "metadata": {},
   "outputs": [],
   "source": [
    "result.to_csv('tobacco_research_result.csv', index=False)"
   ]
  },
  {
   "cell_type": "code",
   "execution_count": null,
   "metadata": {},
   "outputs": [],
   "source": []
  }
 ],
 "metadata": {
  "kernelspec": {
   "display_name": "Python 3",
   "language": "python",
   "name": "python3"
  },
  "language_info": {
   "codemirror_mode": {
    "name": "ipython",
    "version": 3
   },
   "file_extension": ".py",
   "mimetype": "text/x-python",
   "name": "python",
   "nbconvert_exporter": "python",
   "pygments_lexer": "ipython3",
   "version": "3.7.0"
  }
 },
 "nbformat": 4,
 "nbformat_minor": 2
}
